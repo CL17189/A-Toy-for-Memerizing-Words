{
 "cells": [
  {
   "cell_type": "code",
   "execution_count": 68,
   "id": "689ff397",
   "metadata": {},
   "outputs": [
    {
     "data": {
      "text/html": [
       "<div>\n",
       "<style scoped>\n",
       "    .dataframe tbody tr th:only-of-type {\n",
       "        vertical-align: middle;\n",
       "    }\n",
       "\n",
       "    .dataframe tbody tr th {\n",
       "        vertical-align: top;\n",
       "    }\n",
       "\n",
       "    .dataframe thead th {\n",
       "        text-align: right;\n",
       "    }\n",
       "</style>\n",
       "<table border=\"1\" class=\"dataframe\">\n",
       "  <thead>\n",
       "    <tr style=\"text-align: right;\">\n",
       "      <th></th>\n",
       "      <th>Words</th>\n",
       "      <th>Part</th>\n",
       "      <th>Meaning</th>\n",
       "      <th>Date</th>\n",
       "    </tr>\n",
       "  </thead>\n",
       "  <tbody>\n",
       "    <tr>\n",
       "      <th>0</th>\n",
       "      <td>groggy</td>\n",
       "      <td>adj.</td>\n",
       "      <td>体弱的；头晕的</td>\n",
       "      <td>9月22日</td>\n",
       "    </tr>\n",
       "    <tr>\n",
       "      <th>1</th>\n",
       "      <td>repartee</td>\n",
       "      <td>n.</td>\n",
       "      <td>巧辩</td>\n",
       "      <td>9月22日</td>\n",
       "    </tr>\n",
       "    <tr>\n",
       "      <th>2</th>\n",
       "      <td>gargantuan</td>\n",
       "      <td>adj.</td>\n",
       "      <td>巨大的</td>\n",
       "      <td>9月22日</td>\n",
       "    </tr>\n",
       "    <tr>\n",
       "      <th>3</th>\n",
       "      <td>aspersion</td>\n",
       "      <td>n.</td>\n",
       "      <td>诽谤</td>\n",
       "      <td>9月22日</td>\n",
       "    </tr>\n",
       "    <tr>\n",
       "      <th>4</th>\n",
       "      <td>mite</td>\n",
       "      <td>n.</td>\n",
       "      <td>小虫</td>\n",
       "      <td>9月22日</td>\n",
       "    </tr>\n",
       "  </tbody>\n",
       "</table>\n",
       "</div>"
      ],
      "text/plain": [
       "        Words  Part  Meaning   Date\n",
       "0      groggy  adj.  体弱的；头晕的  9月22日\n",
       "1    repartee    n.       巧辩  9月22日\n",
       "2  gargantuan  adj.      巨大的  9月22日\n",
       "3   aspersion    n.       诽谤  9月22日\n",
       "4        mite    n.       小虫  9月22日"
      ]
     },
     "execution_count": 68,
     "metadata": {},
     "output_type": "execute_result"
    }
   ],
   "source": [
    "import pandas as pd\n",
    "df=pd.read_csv('word_data.csv')\n",
    "df.head()\n"
   ]
  },
  {
   "cell_type": "code",
   "execution_count": 58,
   "id": "59c471d1",
   "metadata": {},
   "outputs": [
    {
     "name": "stdout",
     "output_type": "stream",
     "text": [
      "\n",
      "\n",
      "I was feeling groggy when I woke up this morning. I had been up late last night arguing with my roommate over something trivial. I guess you could say we had a bit of a verbal spar. Anyway, I got up and tried to shake the sleep from my head. \n",
      "\n",
      "I went to the kitchen to make coffee, but I couldn't find the mug I usually use. I looked high and low, but it was nowhere to be found. I asked my roommate if she had seen it, and she said she had no idea. I began to suspect she had hidden it from me out of spite. \n",
      "\n",
      "I was about to give up and use a different mug when I heard a noise coming from the laundry room. I went to investigate and there, perched atop the washing machine, was my mug. Apparently, my roommate had put it there in an attempt to play a prank on me. I just shook my head and went back to bed.\n"
     ]
    }
   ],
   "source": [
    "'''\n",
    "首先让chatGPT帮你用单词写故事\n",
    "20个单词为一组\n",
    "数据集：自己做的gre单词集\n",
    "'''\n",
    "import openai\n",
    "openai.api_key = \"\"\n",
    "# Use the GPT-3 model\n",
    "s=df['Words'].loc[0:19]\n",
    "prompt=\"write a funny and 200-words passage using words and try to divide paragraph: \"+str(s)\n",
    "completion = openai.Completion.create(\n",
    "    engine=\"text-davinci-002\",\n",
    "    prompt=prompt,\n",
    "    max_tokens=2048,\n",
    "    temperature=1\n",
    ")\n",
    "# Print the generated text\n",
    "print(completion.choices[0].text)\n",
    "\n",
    "file_path = \"1-19.txt\"  # 保存文件的路径和文件名\n",
    "\n",
    "# 打开文件以进行写入，如果文件不存在则创建\n",
    "with open(file_path, \"w\") as file:\n",
    "    # 将字符串写入文件\n",
    "    file.write(completion.choices[0].text)\n"
   ]
  },
  {
   "cell_type": "code",
   "execution_count": 67,
   "id": "2adc33c5",
   "metadata": {},
   "outputs": [
    {
     "name": "stdout",
     "output_type": "stream",
     "text": [
      "Finish  67  and cost  9.825486421585083  s\n",
      "Finish  68  and cost  5.665837049484253  s\n",
      "Finish  69  and cost  8.22826862335205  s\n",
      "Finish  70  and cost  3.197526693344116  s\n",
      "Finish  71  and cost  11.246158838272095  s\n"
     ]
    }
   ],
   "source": [
    "import openai\n",
    "import time\n",
    "# Set your API key\n",
    "openai.api_key = \"\"\n",
    "for i in range(67,72):\n",
    "    start=time.time()\n",
    "    inf=1+20*(i)\n",
    "    sup=20*(i+1)\n",
    "    if i==71:sup=1423\n",
    "    s=df['Words'].loc[inf-1:sup-1]\n",
    "    prompt=\"write a funny and 200-words passage using words and try to divide paragraph: \"+str(s)\n",
    "    completion = openai.Completion.create(\n",
    "    engine=\"text-davinci-002\",\n",
    "    prompt=prompt,\n",
    "    max_tokens=2048,\n",
    "    temperature=0.8)\n",
    "    file_path = str(inf)+'-'+str(sup)+\".txt\"  # 保存文件的路径和文件名\n",
    "    # 打开文件以进行写入，如果文件不存在则创建\n",
    "    with open(file_path, \"w\") as file:\n",
    "    # 将字符串写入文件\n",
    "        file.write(completion.choices[0].text)\n",
    "    end=time.time()\n",
    "    print('Finish ',i,' and cost ',end-start,' s')\n",
    "    "
   ]
  },
  {
   "cell_type": "code",
   "execution_count": 77,
   "id": "70269825",
   "metadata": {},
   "outputs": [],
   "source": [
    "df['Link']=None\n",
    "for i in range(72):\n",
    "    inf=1+20*(i)\n",
    "    sup=20*(i+1)\n",
    "    if i==71:sup=1423\n",
    "    df['Link'].loc[inf-1:sup-1]= str(inf)+'-'+str(sup)+\".txt\"  #\n",
    "    \n",
    "df.to_csv('new_word.csv',encoding='utf_8_sig')"
   ]
  }
 ],
 "metadata": {
  "kernelspec": {
   "display_name": "Python 3 (ipykernel)",
   "language": "python",
   "name": "python3"
  },
  "language_info": {
   "codemirror_mode": {
    "name": "ipython",
    "version": 3
   },
   "file_extension": ".py",
   "mimetype": "text/x-python",
   "name": "python",
   "nbconvert_exporter": "python",
   "pygments_lexer": "ipython3",
   "version": "3.9.10"
  }
 },
 "nbformat": 4,
 "nbformat_minor": 5
}
